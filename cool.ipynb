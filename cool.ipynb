{
 "cells": [
  {
   "cell_type": "markdown",
   "metadata": {},
   "source": [
    "# Computational psychrometric analysis of cooling systems as a control problem\n",
    "\n",
    "**Note**: Chapter numbers correspond to the accompaning paper:\n",
    "\n",
    "> C. Ghiaus (2021) Computational psychrometric analysis of cooling systems as a control problem, International Journal of Building Performance Simulation\n",
    "\n",
    "\n",
    "Model: \n",
    "- Cooling coil with by-pass, reheating coil, thermal zone, mixing recycled and outdoor air (see *lin_model* and *solve_lin* in `cool.py`).\n",
    "\n",
    "Types of systems (see `cool.py`):\n",
    "- CAV: constant air volume - the mass flow rate is constant (see *CAV_wd* in `cool.py`).\n",
    "- VBP: CAV system with variable mix-air bypass (see *VBP_wd* in `cool.py`). \n",
    "- VAV: variable air volume - the mass flow rate is variable (see *VAV_wd* in `cool.py`).\n",
    "\n",
    "**Types of controls** (numbers correspond to the sections in Ghiaus (2021):\n",
    "\n",
    "Linear control problem: constant air volume (CAV) systems\n",
    "\n",
    "    5.1 Control of indoor air temperature & humidity in CAV systems with reheating\n",
    "    5.2 Control of indoor air temperature in CAV systems without reheating\n",
    "\n",
    "\n",
    "Non-linear parameter optimization problem\n",
    "\n",
    "    6.1 By-pass control in constant air volume (CAV) systems without reheating\n",
    "    \n",
    "        6.1.1. Control of indoor air temperature & humidity in CAV systems\n",
    "        6.1.2. Control of indoor and supply air temperatures in CAV systems\n",
    "    \n",
    "    6.2 Mass-flow control in variable air volume (VAV) systems\n",
    "    \n",
    "        6.2.1 Control of indoor air temperature & humidity in VAV systems without reheating\n",
    "        6.2.2 Control of indoor and supply air temperatures in VAV systems without reheating\n",
    "        6.2.3 Control of indoor air temperature & humidity and of supply air temperature in VAV systems with reheating"
   ]
  },
  {
   "cell_type": "code",
   "execution_count": 1,
   "metadata": {},
   "outputs": [],
   "source": [
    "import ipywidgets as wd\n",
    "import matplotlib.pyplot as plt\n",
    "# %matplotlib inline  # uncomment for inline figure\n",
    "# %matplotlib qt      # uncomment for figure in separate window\n",
    "# plt.show()\n",
    "\n",
    "plt.rcParams[\"figure.figsize\"] = (10, 7.7)\n",
    "font = {'size': 16}\n",
    "plt.rc('font', **font)"
   ]
  },
  {
   "cell_type": "code",
   "execution_count": 2,
   "metadata": {},
   "outputs": [
    {
     "name": "stdout",
     "output_type": "stream",
     "text": [
      "QsTZ =  45,000.0 W\n",
      "QlTZ =  15,000.0 W\n"
     ]
    }
   ],
   "source": [
    "import cool as cc"
   ]
  },
  {
   "cell_type": "markdown",
   "metadata": {},
   "source": [
    "### Create air handing unit (AHU) object"
   ]
  },
  {
   "cell_type": "code",
   "execution_count": 3,
   "metadata": {},
   "outputs": [],
   "source": [
    "Kθ, Kw = 1e10, 0        # Gain factors of the P-controllers\n",
    "β = 0.16                # By-pass factor of the cooling coil\n",
    "\n",
    "m, mo = 3.1, 1.         # kg/s, mass flow rate, supply and outdoor air\n",
    "θo, φo = 32., 0.5       # °C, -, outdoor air temperature and humidity\n",
    "θ5sp, φ5sp = 26., 0.5   # °C, -, indoor air temperature and humidity set points\n",
    "\n",
    "mi = 1.35               # kg/s, mass flow rate of infiltration air\n",
    "UA = 675.               # W/K, overall heat transfet coeffcient\n",
    "QsBL, QlBL = 34000., 4000.    # W, sensible & latent auxiliar heat\n",
    "\n",
    "parameters = m, mo, β, Kθ, Kw\n",
    "inputs = θo, φo, θ5sp, φ5sp, mi, UA, QsBL, QlBL"
   ]
  },
  {
   "cell_type": "markdown",
   "metadata": {},
   "source": [
    "# 5 Linear control problem: constant air volume (CAV) systems"
   ]
  },
  {
   "cell_type": "markdown",
   "metadata": {},
   "source": [
    "## 5.1 Control of indoor air temperature & humidity in CAV systems with reheating"
   ]
  },
  {
   "cell_type": "markdown",
   "metadata": {},
   "source": [
    "<img src=\"Figures/Legend.png\" alt=\"Legend_figures\" style=\"width: 600px;\"/>\n",
    "\n",
    "This legend is for all figures."
   ]
  },
  {
   "cell_type": "markdown",
   "metadata": {},
   "source": [
    "<img src=\"Figures/CAV_θ5_φ5.png\" alt=\"CAV_θ5_φ5\" style=\"width: 600px;\"/>\n",
    "\n",
    "> CAV system ontroling indoor temperature, $\\theta_5$, and humidity, $\\varphi_5$, by acting on the cooling coil [CC], $\\dot{Q}_{tCC}$, and heating coil [HC],  $\\dot{Q}_{sHC}$, respectively.\n",
    "> - The mass flow rate of supply air, $\\dot{m}$, is given and constant (CAV system).\n",
    "> - The supply air temperature, $\\theta_4$, is not controlled."
   ]
  },
  {
   "cell_type": "code",
   "execution_count": 4,
   "metadata": {},
   "outputs": [
    {
     "data": {
      "application/vnd.jupyter.widget-view+json": {
       "model_id": "ebbb0857408c4f2586f889857533860d",
       "version_major": 2,
       "version_minor": 0
      },
      "text/plain": [
       "interactive(children=(IntSlider(value=32, description='θo', max=34, min=26), FloatSlider(value=0.7, descriptio…"
      ]
     },
     "metadata": {},
     "output_type": "display_data"
    },
    {
     "data": {
      "text/plain": [
       "<function ipywidgets.widgets.interaction._InteractFactory.__call__.<locals>.<lambda>(*args, **kwargs)>"
      ]
     },
     "execution_count": 4,
     "metadata": {},
     "output_type": "execute_result"
    }
   ],
   "source": [
    "cool0 = cc.MxCcRhTzBl(parameters, inputs)\n",
    "Kw = 1e10\n",
    "cool0.actual[4] = Kw\n",
    "wd.interact(cool0.CAV_wd, θo=(26, 34), φo=(0.4, 1), θ5sp=(20, 28), φ5sp=(0.30, 1, 0.01),\n",
    "            mi=(0.5, 3, 0.1), UA=(500, 800, 10), QsBL=(0, 60_000, 500), QlBL=(0, 20_000, 500))"
   ]
  },
  {
   "cell_type": "markdown",
   "metadata": {},
   "source": [
    "## 5.2 Control of indoor air temperature in CAV systems without reheating ($K_w = 0$)\n",
    "\n",
    "<img src=\"Figures/CAV_θ5.png\" alt=\"CAV_θ5\" style=\"width: 600px;\"/>\n",
    "\n",
    "> CAV system controling the indoor temperature, $\\theta_5$, by acting on the cooling coil [CC], $\\dot{Q}_{tCC}$.\n",
    "> - The heating coil is not operating, $\\dot{Q}_{sHC}=0$. Indoor humidity, $w_5$, is not controlled.\n",
    "> - The mass flow rate of supply air, $\\dot{m}$, is given and constant (CAV system).\n",
    "> - The supply air temperature, $\\theta_4 = \\theta_3$, is not controlled."
   ]
  },
  {
   "cell_type": "markdown",
   "metadata": {},
   "source": [
    "*Note on widgets*: \n",
    "- Acting on the set point of indoor humidity, $\\varphi_{5sp}$ = `φ5sp`, has no effect."
   ]
  },
  {
   "cell_type": "code",
   "execution_count": 5,
   "metadata": {},
   "outputs": [
    {
     "data": {
      "application/vnd.jupyter.widget-view+json": {
       "model_id": "390c78b3a5944139a20681e7e367a5aa",
       "version_major": 2,
       "version_minor": 0
      },
      "text/plain": [
       "interactive(children=(IntSlider(value=32, description='θo', max=34, min=26), FloatSlider(value=0.7, descriptio…"
      ]
     },
     "metadata": {},
     "output_type": "display_data"
    },
    {
     "data": {
      "text/plain": [
       "<function ipywidgets.widgets.interaction._InteractFactory.__call__.<locals>.<lambda>(*args, **kwargs)>"
      ]
     },
     "execution_count": 5,
     "metadata": {},
     "output_type": "execute_result"
    }
   ],
   "source": [
    "cool1 = cc.MxCcRhTzBl(parameters, inputs)\n",
    "wd.interact(cool1.CAV_wd, θo=(26, 34), φo=(0.4, 1), θ5sp=(20, 28), φI5sp=(0.4, 1, 0.01),\n",
    "            mi=(0.5, 3, 0.1), UA=(500, 800, 10), QsBL=(0, 60_000, 500), QlBL=(0, 20_000, 500))"
   ]
  },
  {
   "cell_type": "markdown",
   "metadata": {},
   "source": [
    "# 6 Non-linear parameter optimization problem"
   ]
  },
  {
   "cell_type": "markdown",
   "metadata": {},
   "source": [
    "## 6.1 By-pass control in constant air volume (CAV) systems without reheating"
   ]
  },
  {
   "cell_type": "markdown",
   "metadata": {},
   "source": [
    "### 6.1.1 Control of indoor air temperature & humidity in CAV systems\n",
    "\n",
    "<img src=\"Figures/CAV_β_θ5_φ5.png\" alt=\"CAV_β_θ5_φ5\" style=\"width: 600px;\"/>\n",
    "\n",
    "> CAV with mix-air bypass controlling: indoor temperature, $\\theta_5$, by acting on the cooling coil [CC], $\\dot{Q}_{tCC}$, and the indoor humidity, $\\varphi_5$, by acting on the by-pass damper D, $\\beta$.\n",
    "> - The heating coil is not operating, $\\dot{Q}_{sHC}=0$.\n",
    "> - The mass flow rate of supply air, $\\dot{m}$, is given and constant (CAV system).\n",
    "> - The supply air temperature, $\\theta_4 = \\theta_3$, is not controlled."
   ]
  },
  {
   "cell_type": "markdown",
   "metadata": {},
   "source": [
    "*Notes on widgets*:\n",
    "- `value`represents the controlled variable (i.e. φ); `sp`is its set-point value.\n",
    "- Acting on the set point of indoor humidity, $\\varphi_{5, sp}$ = `φ5sp`, has no effect (the heating coil does not operate)."
   ]
  },
  {
   "cell_type": "code",
   "execution_count": 6,
   "metadata": {},
   "outputs": [
    {
     "data": {
      "application/vnd.jupyter.widget-view+json": {
       "model_id": "4cb0d45f077140429ee6c155a036d47d",
       "version_major": 2,
       "version_minor": 0
      },
      "text/plain": [
       "interactive(children=(Text(value='φ5', description='value'), FloatSlider(value=0.5, description='sp', max=0.5,…"
      ]
     },
     "metadata": {},
     "output_type": "display_data"
    },
    {
     "data": {
      "text/plain": [
       "<function ipywidgets.widgets.interaction._InteractFactory.__call__.<locals>.<lambda>(*args, **kwargs)>"
      ]
     },
     "execution_count": 6,
     "metadata": {},
     "output_type": "execute_result"
    }
   ],
   "source": [
    "cool4 = cc.MxCcRhTzBl(parameters, inputs)\n",
    "wd.interact(cool4.VBP_wd, value='φ5', sp=(0.3, 0.5, 0.01), θo=(26, 34), φo=(0.4, 1),\n",
    "            θ5sp=(20, 28), φ5sp=(0.4, 0.8, 0.01),\n",
    "            mi=(0.5, 3, 0.1), UA=(500, 800, 10), Qsa=(0, 60_000, 500), Qla=(0, 20_000, 500))"
   ]
  },
  {
   "cell_type": "markdown",
   "metadata": {},
   "source": [
    "### 6.1.2 Control of indoor and supply air temperatures in CAV systems\n",
    "\n",
    "Controlling the supply air temperature, $\\theta_4$, by acting on the by-pass, $\\beta$, has **no soultion**.\n",
    "\n",
    "Explanation:\n",
    "\n",
    "In the sensible heat balace of the thermal zone [TZ],\n",
    "$$\\dot{m}c(\\theta_4 - \\theta_5) + \\dot{Q}_{s, TZ} = 0$$\n",
    "\n",
    "all valiables (i.e. $\\dot{m}, \\theta_4, \\theta_5$ and $\\dot{Q}_{s, TZ}$) are imposed. There is no way to control the supply air temperature, $\\theta_4$, because the supply air mass flow rate, $\\dot{m}$, is fixed in a CAV system. Given $\\theta_5$ and $\\dot{Q}_{sTZ}$:\n",
    "- either $\\dot{m}$ controls $\\theta_4$,\n",
    "- or $\\theta_4$ controls $\\dot{m}$."
   ]
  },
  {
   "cell_type": "code",
   "execution_count": 7,
   "metadata": {},
   "outputs": [],
   "source": [
    "# Executing the following code will generate an error: no solution for β\n",
    "# cool = cc.MxCcRhTzBl(parameters, inputs)\n",
    "# θ4sp = 11.77\n",
    "# m = 3.162\n",
    "# cool.actual[0] = m\n",
    "# cool.VBP_wd('θS', θ4sp, θo, φo, θ5sp, φ5sp, mi, UA, QsBL, QlBL)"
   ]
  },
  {
   "cell_type": "markdown",
   "metadata": {},
   "source": [
    "## 6.2 Mass-flow control in variable air volume (VAV) systems"
   ]
  },
  {
   "cell_type": "markdown",
   "metadata": {},
   "source": [
    "### 6.2.1 Control of indoor air temperature & humidity in VAV systems without reheating\n",
    "\n",
    "<img src=\"Figures/VAV_θ5_φ5.png\" alt=\"VAV_θ5_φ5\" style=\"width: 600px;\"/>\n",
    "\n",
    ">  VAV system controling: the indoor temperature, $\\theta_5$, by acting on the cooling coil [CC], $\\dot{Q}_{tCC}$, and the indoor air humidity, $\\varphi_5$, by acting on the supply air mass flow rate, $\\dot{m}$.\n",
    "> - The heating coil is not operating, $\\dot{Q}_{sHC}=0$.\n"
   ]
  },
  {
   "cell_type": "code",
   "execution_count": 8,
   "metadata": {},
   "outputs": [
    {
     "data": {
      "application/vnd.jupyter.widget-view+json": {
       "model_id": "6fb135efc8574221ad060e24fd1d3667",
       "version_major": 2,
       "version_minor": 0
      },
      "text/plain": [
       "interactive(children=(Text(value='φ5', description='value'), FloatSlider(value=0.5, description='sp', max=0.5,…"
      ]
     },
     "metadata": {},
     "output_type": "display_data"
    },
    {
     "data": {
      "text/plain": [
       "<function ipywidgets.widgets.interaction._InteractFactory.__call__.<locals>.<lambda>(*args, **kwargs)>"
      ]
     },
     "execution_count": 8,
     "metadata": {},
     "output_type": "execute_result"
    }
   ],
   "source": [
    "cool3 = cc.MxCcRhTzBl(parameters, inputs)\n",
    "wd.interact(cool3.VAV_wd, value='φ5', sp=(0.4, 0.5, 0.05), θo=(26, 34), φo=(0.4, 1),\n",
    "            θ5sp=(20, 28), φ5sp=(0.4, 0.8),\n",
    "            mi=(0.7, 3, 0.1), UA=(500, 800, 10), QsBL=(0, 60_000, 500), QlBL=(0, 20_000, 500))"
   ]
  },
  {
   "cell_type": "markdown",
   "metadata": {},
   "source": [
    "### 6.2.2 Control of indoor and supply air temperatures in VAV systems without reheating\n",
    "\n",
    "<img src=\"Figures/VAV_θ4_θ5.png\" alt=\"VAV_θ4_θ5\" style=\"width: 600px;\"/>\n",
    "\n",
    "> VAV system controling: indoor temperature, $\\theta_5$, by acting on the cooling coil [CC], $\\dot{Q}_{t,CC}$, and the supply air temperature, $\\theta_4$, by acting on the supply air mass flow rate, $\\dot{m}$.\n",
    "> - The heating coil is not operating, $\\dot{Q}_{sHC}=0$."
   ]
  },
  {
   "cell_type": "code",
   "execution_count": 9,
   "metadata": {},
   "outputs": [
    {
     "data": {
      "application/vnd.jupyter.widget-view+json": {
       "model_id": "54c90c1985f94c5494f1342acd3b00d0",
       "version_major": 2,
       "version_minor": 0
      },
      "text/plain": [
       "interactive(children=(Text(value='θ4', description='value'), IntSlider(value=14, description='sp', max=21, min…"
      ]
     },
     "metadata": {},
     "output_type": "display_data"
    },
    {
     "data": {
      "text/plain": [
       "<function ipywidgets.widgets.interaction._InteractFactory.__call__.<locals>.<lambda>(*args, **kwargs)>"
      ]
     },
     "execution_count": 9,
     "metadata": {},
     "output_type": "execute_result"
    }
   ],
   "source": [
    "cool6 = cc.MxCcRhTzBl(parameters, inputs)\n",
    "Kw = 0\n",
    "cool6.actual[4] = Kw\n",
    "wd.interact(cool6.VAV_wd, value='θ4', sp=(14, 21), θo=(26, 34), φo=(0.4, 1),\n",
    "            θ5sp=(20, 28), φ5sp=(0.4, 0.8),\n",
    "            mi=(0.5, 3, 0.1), UA=(500, 800, 10), QsBL=(0, 60_000, 500), QlBL=(0, 20_000, 500))"
   ]
  },
  {
   "cell_type": "markdown",
   "metadata": {},
   "source": [
    "### 6.2.3 Control of indoor air temperature & humidity and of supply air temperature in VAV systems with reheating\n",
    "\n",
    "<img src=\"Figures/VAV_θ4_θ5_φ5.png\" alt=\"VAV_θ4_θ5_φ5\" style=\"width: 600px;\"/>\n",
    "\n",
    ">  VAV system controling: indoor temperature, $\\theta_5$, by acting on the cooling coil [CC], $\\dot{Q}_{tCC}$,  indoor humidity, by acting on the heating coil [HC], $\\dot{Q}_{s,HC}$, and supply air temperature, $\\theta_4$, by acting on the supply air mass flow rate, $\\dot{m}$."
   ]
  },
  {
   "cell_type": "code",
   "execution_count": 10,
   "metadata": {},
   "outputs": [
    {
     "data": {
      "application/vnd.jupyter.widget-view+json": {
       "model_id": "e0e218879d6f4419861581bd50f48c70",
       "version_major": 2,
       "version_minor": 0
      },
      "text/plain": [
       "interactive(children=(Text(value='θ4', description='value'), IntSlider(value=14, description='sp', max=21, min…"
      ]
     },
     "metadata": {},
     "output_type": "display_data"
    },
    {
     "data": {
      "text/plain": [
       "<function ipywidgets.widgets.interaction._InteractFactory.__call__.<locals>.<lambda>(*args, **kwargs)>"
      ]
     },
     "execution_count": 10,
     "metadata": {},
     "output_type": "execute_result"
    }
   ],
   "source": [
    "cool6 = cc.MxCcRhTzBl(parameters, inputs)\n",
    "Kw = 1e10\n",
    "cool6.actual[4] = Kw\n",
    "wd.interact(cool6.VAV_wd, value='θ4', sp=(14, 21), θo=(28, 36), φo=(0.4, 1),\n",
    "            θ5sp=(22, 26), φ5sp=(0.4, 0.8),\n",
    "            mi=(0.5, 3, 0.1), UA=(500, 800, 10), QsBL=(0, 60_000, 500), QlBL=(0, 20_000, 500))"
   ]
  },
  {
   "cell_type": "code",
   "execution_count": null,
   "metadata": {},
   "outputs": [],
   "source": []
  }
 ],
 "metadata": {
  "kernelspec": {
   "display_name": "Python 3",
   "language": "python",
   "name": "python3"
  },
  "language_info": {
   "codemirror_mode": {
    "name": "ipython",
    "version": 3
   },
   "file_extension": ".py",
   "mimetype": "text/x-python",
   "name": "python",
   "nbconvert_exporter": "python",
   "pygments_lexer": "ipython3",
   "version": "3.8.5"
  }
 },
 "nbformat": 4,
 "nbformat_minor": 4
}
