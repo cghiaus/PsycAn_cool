{
 "cells": [
  {
   "cell_type": "markdown",
   "metadata": {
    "tags": []
   },
   "source": [
    "# Computational psychrometric analysis of cooling systems as a control problem\n",
    "\n",
    "**Note**: Numbers of chapters and figures of this notebook correspond to those from the accompaning paper:\n",
    "\n",
    "> C. Ghiaus (2022) Computational psychrometric analysis of cooling systems as a control problem: case of cooling and dehumidification systems, *International Journal of Building Performance Simulation*, vol. 15, no. 1, p. 21-38\n",
    "[DOI: 10.1080/19401493.2021.1995498](https://doi.org/10.1080/19401493.2021.1995498)\n",
    "\n",
    "<img src=\"Figures/Legend.png\" alt=\"Legend_figures\" style=\"width: 600px;\"/>\n",
    "\n",
    "> Figure 3. Legend for figures 4 - 10\n",
    "\n",
    "This legend is valid for all figures.\n",
    "\n",
    "**Model of the HVAC system**\n",
    "\n",
    "The HVAC system is composed of (see methods *lin_model* and *solve_lin* of class *MxCcRhTzBl* in file `cool.py` and Figures 2 and 4 in the accompaning paper Ghiaus (2022)):\n",
    "- mixing recycled and outdoor air (MR block),\n",
    "- cooling coil with by-pass (CC and MX blocks),\n",
    "- reheating coil (HC block),\n",
    "- thermal zone (TZ block) of the building (BL block).\n",
    "\n",
    "<img src=\"Figures/AHU_model.png\" alt=\"AHU_model\" style=\"width: 600px;\"/>\n",
    "\n",
    "> Figure 4. Cooling and dehumidification: direct (or simulation) problem obtained by assembling elementary psychrometric processes.\n",
    "\n",
    "**Types of systems** (see file `cool.py`):\n",
    "- CAV: constant air volume - the mass flow rate is constant (see *CAV_wd* in `cool.py`).\n",
    "- VBP: constant air volum (CAV) system with variable mix-air bypass (see *VBP_wd* in `cool.py`). \n",
    "- VAV: variable air volume - the mass flow rate is variable (see *VAV_wd* in `cool.py`).\n",
    "\n",
    "**Types of controls** (numbers correspond to the sections in the accompaning paper Ghiaus (2022)):\n",
    "\n",
    "*- Linear control problem* (constant air volume (CAV) systems):\n",
    "\n",
    "    5.1 Control of indoor air temperature & humidity in constant air volume (CAV) systems with reheating\n",
    "    5.2 Control of indoor air temperature in constant air volume (CAV) systems without reheating\n",
    "\n",
    "\n",
    "*- Non-linear parameter optimization problem:*\n",
    "\n",
    "    6.1 By-pass control in constant air volume (CAV) systems without reheating\n",
    "    \n",
    "        6.1.1. Control of indoor air temperature & humidity in CAV systems\n",
    "        6.1.2. Control of indoor and supply air temperatures in CAV systems\n",
    "    \n",
    "    6.2 Mass-flow control in variable air volume (VAV) systems\n",
    "    \n",
    "        6.2.1 Control of indoor air temperature & humidity in VAV systems without reheating\n",
    "        6.2.2 Control of indoor and supply air temperatures in VAV systems without reheating\n",
    "        6.2.3 Control of indoor air temperature & humidity and of supply air temperature in VAV systems with reheating"
   ]
  },
  {
   "cell_type": "code",
   "execution_count": 1,
   "metadata": {},
   "outputs": [],
   "source": [
    "import ipywidgets as wd\n",
    "import matplotlib.pyplot as plt\n",
    "import cool as cc\n",
    "\n",
    "# %matplotlib inline  # uncomment for inline figure\n",
    "# %matplotlib qt      # uncomment for figure in separate window\n",
    "plt.rcParams[\"figure.figsize\"] = (10, 7.7)\n",
    "font = {'size': 16}\n",
    "plt.rc('font', **font)"
   ]
  },
  {
   "cell_type": "markdown",
   "metadata": {},
   "source": [
    "### Create *HVAC system* object"
   ]
  },
  {
   "cell_type": "code",
   "execution_count": 2,
   "metadata": {},
   "outputs": [],
   "source": [
    "Kθ, Kw = 1e10, 0        # Gain factors of the P-controllers\n",
    "β = 0.16                # By-pass factor of the cooling coil\n",
    "\n",
    "m, mo = 3.1, 1.         # kg/s, mass flow rate, supply and outdoor air\n",
    "θo, φo = 32., 0.5       # °C, -, outdoor air temperature and relative humidity\n",
    "θ5sp, φ5sp = 26., 0.5   # °C, -, indoor air set points\n",
    "\n",
    "mi = 1.35               # kg/s, mass flow rate of infiltration air\n",
    "UA = 675.               # W/K, overall heat transfet coefficient\n",
    "QsBL, QlBL = 34000., 4000.    # W, sensible & latent auxiliar heat\n",
    "\n",
    "parameters = m, mo, β, Kθ, Kw\n",
    "inputs = θo, φo, θ5sp, φ5sp, mi, UA, QsBL, QlBL"
   ]
  },
  {
   "cell_type": "markdown",
   "metadata": {},
   "source": [
    "# 5 Linear control problem: constant air volume (CAV) systems"
   ]
  },
  {
   "cell_type": "markdown",
   "metadata": {},
   "source": [
    "## 5.1 Control of indoor air temperature & humidity in CAV systems with reheating"
   ]
  },
  {
   "cell_type": "markdown",
   "metadata": {
    "tags": []
   },
   "source": [
    "<img src=\"Figures/CAV_θ5_φ5.png\" alt=\"CAV_θ5_φ5\" style=\"width: 600px;\"/>\n",
    "\n",
    "> Figure 5. CAV system controling indoor temperature, $\\theta_5$, and humidity, $\\varphi_5$, by acting on the cooling coil [CC], $\\dot{Q}_{tCC}$, and heating coil [HC],  $\\dot{Q}_{sHC}$, respectively.\n",
    "> - The mass flow rate of supply air, $\\dot{m}$, is given and constant (CAV system).\n",
    "> - The supply air temperature, $\\theta_4$, is not controlled."
   ]
  },
  {
   "cell_type": "code",
   "execution_count": 3,
   "metadata": {
    "tags": []
   },
   "outputs": [
    {
     "data": {
      "application/vnd.jupyter.widget-view+json": {
       "model_id": "3fde8d27811842a3b6b15be56a67078f",
       "version_major": 2,
       "version_minor": 0
      },
      "text/plain": [
       "interactive(children=(IntSlider(value=32, description='θo', max=34, min=26), FloatSlider(value=0.7, descriptio…"
      ]
     },
     "metadata": {},
     "output_type": "display_data"
    },
    {
     "name": "stdout",
     "output_type": "stream",
     "text": [
      "\n"
     ]
    }
   ],
   "source": [
    "cool0 = cc.MxCcRhTzBl(parameters, inputs)\n",
    "Kw = 1e10\n",
    "cool0.actual[4] = Kw\n",
    "wd.interact(cool0.CAV_wd, θo=(26, 34), φo=(0.4, 1), θ5sp=(20, 28), φ5sp=(0.30, 1, 0.01),\n",
    "            mi=(0.1, 3, 0.1), UA=(500, 800, 10), QsBL=(0, 60_000, 500), QlBL=(0, 20_000, 500))\n",
    "print()"
   ]
  },
  {
   "cell_type": "markdown",
   "metadata": {},
   "source": [
    "> Figure 6. Psychrometric diagram for cooling and dehumidification of a single zone modelled by the block diagram given in Figure 5."
   ]
  },
  {
   "cell_type": "markdown",
   "metadata": {
    "tags": []
   },
   "source": [
    "## 5.2 Control of indoor air temperature in CAV systems without reheating ($K_w = 0$)\n",
    "\n",
    "<img src=\"Figures/CAV_θ5.png\" alt=\"CAV_θ5\" style=\"width: 600px;\"/>\n",
    "\n",
    "> Figure 7. CAV system controling the indoor temperature, $\\theta_5$, by acting on the cooling coil [CC], $\\dot{Q}_{tCC}$.\n",
    "> - The heating coil is not operating, $\\dot{Q}_{sHC}=0$; indoor humidity, $w_5$, is not controlled.\n",
    "> - The mass flow rate of supply air, $\\dot{m}$, is given and constant (CAV system).\n",
    "> - The supply air temperature, $\\theta_4 = \\theta_3$, is not controlled."
   ]
  },
  {
   "cell_type": "markdown",
   "metadata": {},
   "source": [
    "*Note on widgets*: \n",
    "- Acting on the set point of indoor humidity, $\\varphi_{5sp}$ = `φ5sp`, has no effect."
   ]
  },
  {
   "cell_type": "code",
   "execution_count": 4,
   "metadata": {},
   "outputs": [
    {
     "data": {
      "application/vnd.jupyter.widget-view+json": {
       "model_id": "9ade8309dc084ef481e202eb472842f1",
       "version_major": 2,
       "version_minor": 0
      },
      "text/plain": [
       "interactive(children=(IntSlider(value=32, description='θo', max=34, min=26), FloatSlider(value=0.7, descriptio…"
      ]
     },
     "metadata": {},
     "output_type": "display_data"
    },
    {
     "name": "stdout",
     "output_type": "stream",
     "text": [
      "\n"
     ]
    }
   ],
   "source": [
    "cool1 = cc.MxCcRhTzBl(parameters, inputs)\n",
    "wd.interact(cool1.CAV_wd, θo=(26, 34), φo=(0.4, 1), θ5sp=(20, 28), φI5sp=(0.4, 1, 0.01),\n",
    "            mi=(0.5, 3, 0.1), UA=(500, 8000, 10), QsBL=(0, 60_000, 500), QlBL=(0, 20_000, 500))\n",
    "print()"
   ]
  },
  {
   "cell_type": "markdown",
   "metadata": {},
   "source": [
    "> Figure 8. Psychrometric diagram with typical processes for cooling and dehumidification of a single zone modelled by the block diagram given in Figure 7."
   ]
  },
  {
   "cell_type": "markdown",
   "metadata": {},
   "source": [
    "# 6 Non-linear parameter optimization problem"
   ]
  },
  {
   "cell_type": "markdown",
   "metadata": {},
   "source": [
    "## 6.1 By-pass control in constant air volume (CAV) systems without reheating"
   ]
  },
  {
   "cell_type": "markdown",
   "metadata": {
    "tags": []
   },
   "source": [
    "### 6.1.1 Control of indoor air temperature & humidity in CAV systems\n",
    "\n",
    "<img src=\"Figures/CAV_β_θ5_φ5.png\" alt=\"CAV_β_θ5_φ5\" style=\"width: 600px;\"/>\n",
    "\n",
    "> Figure 9. CAV with mix-air bypass controlling the indoor temperature, $\\theta_5$, by acting on the cooling coil [CC], $\\dot{Q}_{tCC}$, and the indoor humidity, $\\varphi_5$, by acting on the by-pass damper D, $\\beta$.\n",
    "> - The heating coil is not operating, $\\dot{Q}_{sHC}=0$.\n",
    "> - The mass flow rate of supply air, $\\dot{m}$, is given and constant (CAV system).\n",
    "> - The supply air temperature, $\\theta_4 = \\theta_3$, is not controlled."
   ]
  },
  {
   "cell_type": "markdown",
   "metadata": {},
   "source": [
    "*Notes on widgets*:\n",
    "- `value`represents the controlled variable (i.e. φ5); `sp` is its set-point value.\n",
    "- Acting on the set point of the indoor humidity, $\\varphi_{5, sp}$ = `φ5sp`, has no effect (the heating coil does not operate)."
   ]
  },
  {
   "cell_type": "code",
   "execution_count": 5,
   "metadata": {},
   "outputs": [
    {
     "data": {
      "application/vnd.jupyter.widget-view+json": {
       "model_id": "87ed584a637944a98119148e4161513c",
       "version_major": 2,
       "version_minor": 0
      },
      "text/plain": [
       "interactive(children=(Text(value='φ5', description='value'), FloatSlider(value=0.5, description='sp', max=0.9,…"
      ]
     },
     "metadata": {},
     "output_type": "display_data"
    },
    {
     "name": "stdout",
     "output_type": "stream",
     "text": [
      "\n"
     ]
    }
   ],
   "source": [
    "cool4 = cc.MxCcRhTzBl(parameters, inputs)\n",
    "wd.interact(cool4.VBP_wd, value='φ5', sp=(0.3, 0.9, 0.01), θo=(26, 34), φo=(0.4, 1),\n",
    "            θ5sp=(20, 28), φ5sp=(0.4, 0.8, 0.01),\n",
    "            mi=(0.5, 3, 0.1), UA=(500, 800, 10), Qsa=(0, 60_000, 500), Qla=(0, 20_000, 500))\n",
    "print()"
   ]
  },
  {
   "cell_type": "markdown",
   "metadata": {},
   "source": [
    "> Figure 10. Psychrometric diagram for cooling and dehumidification by a CAV system with mix-air bypass modelled by the block diagram given in Figure 9."
   ]
  },
  {
   "cell_type": "markdown",
   "metadata": {
    "tags": []
   },
   "source": [
    "### 6.1.2 Control of indoor and supply air temperatures in CAV systems\n",
    "\n",
    "Controlling the supply air temperature, $\\theta_4$, by acting on the by-pass, $\\beta$, has **no solution**.\n",
    "\n",
    "Explanation:\n",
    "\n",
    "In the sensible heat balace of the thermal zone [TZ],\n",
    "$$\\dot{m}c(\\theta_4 - \\theta_5) + \\dot{Q}_{s, TZ} = 0$$\n",
    "\n",
    "all valiables (i.e. $\\dot{m}, \\theta_4, \\theta_5$ and $\\dot{Q}_{s, TZ}$) are imposed. There is no way to control the supply air temperature, $\\theta_4$, because the supply air mass flow rate, $\\dot{m}$, is fixed in a CAV system. Given $\\theta_5$ and $\\dot{Q}_{sTZ}$:\n",
    "- either $\\dot{m}$ controls $\\theta_4$,\n",
    "- or $\\theta_4$ controls $\\dot{m}$."
   ]
  },
  {
   "cell_type": "code",
   "execution_count": 6,
   "metadata": {},
   "outputs": [],
   "source": [
    "# Executing the following code will generate an error: no solution for β\n",
    "# cool = cc.MxCcRhTzBl(parameters, inputs)\n",
    "# θ4sp = 11.77\n",
    "# m = 3.162\n",
    "# cool.actual[0] = m\n",
    "# cool.VBP_wd('θS', θ4sp, θo, φo, θ5sp, φ5sp, mi, UA, QsBL, QlBL)"
   ]
  },
  {
   "cell_type": "markdown",
   "metadata": {},
   "source": [
    "## 6.2 Mass-flow control in variable air volume (VAV) systems"
   ]
  },
  {
   "cell_type": "markdown",
   "metadata": {
    "tags": []
   },
   "source": [
    "### 6.2.1 Control of indoor air temperature & humidity in VAV systems without reheating\n",
    "\n",
    "<img src=\"Figures/VAV_θ5_φ5.png\" alt=\"VAV_θ5_φ5\" style=\"width: 600px;\"/>\n",
    "\n",
    ">  Figure 11. VAV system controling: the indoor temperature, $\\theta_5$, by acting on the cooling coil [CC], $\\dot{Q}_{tCC}$, and the indoor air humidity, $\\varphi_5$, by acting on the supply air mass flow rate, $\\dot{m}$.\n",
    "> - The heating coil is not operating, $\\dot{Q}_{sHC}=0$.\n"
   ]
  },
  {
   "cell_type": "code",
   "execution_count": 7,
   "metadata": {},
   "outputs": [
    {
     "data": {
      "application/vnd.jupyter.widget-view+json": {
       "model_id": "d709cb89c80243c9bea17eb365574dbc",
       "version_major": 2,
       "version_minor": 0
      },
      "text/plain": [
       "interactive(children=(Text(value='φ5', description='value'), FloatSlider(value=0.5, description='sp', max=0.5,…"
      ]
     },
     "metadata": {},
     "output_type": "display_data"
    },
    {
     "name": "stdout",
     "output_type": "stream",
     "text": [
      "\n"
     ]
    }
   ],
   "source": [
    "cool3 = cc.MxCcRhTzBl(parameters, inputs)\n",
    "wd.interact(cool3.VAV_wd, value='φ5', sp=(0.4, 0.5, 0.05), θo=(26, 34), φo=(0.4, 1),\n",
    "            θ5sp=(20, 28), φ5sp=(0.4, 0.8),\n",
    "            mi=(0.7, 3, 0.1), UA=(500, 800, 10), QsBL=(0, 60_000, 500), QlBL=(0, 20_000, 500))\n",
    "print()"
   ]
  },
  {
   "cell_type": "markdown",
   "metadata": {},
   "source": [
    "> Figure 12. Psychrometric diagram for cooling and dehumidification by a VAV system controlling the thermal zone temperature and humidity modelled by the block diagram given in Figure 11."
   ]
  },
  {
   "cell_type": "markdown",
   "metadata": {
    "tags": []
   },
   "source": [
    "### 6.2.2 Control of indoor and supply air temperatures in VAV systems without reheating\n",
    "\n",
    "<img src=\"Figures/VAV_θ4_θ5.png\" alt=\"VAV_θ4_θ5\" style=\"width: 600px;\"/>\n",
    "\n",
    "> Figuer 13. VAV system controling: indoor temperature, $\\theta_5$, by acting on the cooling coil [CC], $\\dot{Q}_{t,CC}$, and the supply air temperature, $\\theta_4$, by acting on the supply air mass flow rate, $\\dot{m}$.\n",
    "> - The heating coil is not operating, $\\dot{Q}_{sHC}=0$."
   ]
  },
  {
   "cell_type": "code",
   "execution_count": 8,
   "metadata": {},
   "outputs": [
    {
     "data": {
      "application/vnd.jupyter.widget-view+json": {
       "model_id": "ca578d60da414e288e9652576e3b3f35",
       "version_major": 2,
       "version_minor": 0
      },
      "text/plain": [
       "interactive(children=(Text(value='θ4', description='value'), IntSlider(value=14, description='sp', max=21, min…"
      ]
     },
     "metadata": {},
     "output_type": "display_data"
    },
    {
     "name": "stdout",
     "output_type": "stream",
     "text": [
      "\n"
     ]
    }
   ],
   "source": [
    "cool6 = cc.MxCcRhTzBl(parameters, inputs)\n",
    "Kw = 0\n",
    "cool6.actual[4] = Kw\n",
    "wd.interact(cool6.VAV_wd, value='θ4', sp=(14, 21), θo=(26, 34), φo=(0.4, 1),\n",
    "            θ5sp=(20, 28), φ5sp=(0.4, 0.8),\n",
    "            mi=(0.5, 3, 0.1), UA=(500, 800, 10), QsBL=(0, 60_000, 500), QlBL=(0, 20_000, 500))\n",
    "print()"
   ]
  },
  {
   "cell_type": "markdown",
   "metadata": {},
   "source": [
    "> Figure 14. Psychrometric diagram for cooling and dehumidification by a VAV system controlling the temperatures of the supply air and the thermal zone modelled by the block diagram given in Figure 13. "
   ]
  },
  {
   "cell_type": "markdown",
   "metadata": {
    "tags": []
   },
   "source": [
    "### 6.2.3 Control of indoor air temperature & humidity and of supply air temperature in VAV systems with reheating\n",
    "\n",
    "<img src=\"Figures/VAV_θ4_θ5_φ5.png\" alt=\"VAV_θ4_θ5_φ5\" style=\"width: 600px;\"/>\n",
    "\n",
    ">  Figure 15. VAV system controling: indoor temperature, $\\theta_5$, by acting on the cooling coil [CC], $\\dot{Q}_{tCC}$,  indoor humidity, by acting on the heating coil [HC], $\\dot{Q}_{s,HC}$, and supply air temperature, $\\theta_4$, by acting on the supply air mass flow rate, $\\dot{m}$."
   ]
  },
  {
   "cell_type": "code",
   "execution_count": 9,
   "metadata": {},
   "outputs": [
    {
     "data": {
      "application/vnd.jupyter.widget-view+json": {
       "model_id": "13df8fe1d4554f0abd2a030143816ce2",
       "version_major": 2,
       "version_minor": 0
      },
      "text/plain": [
       "interactive(children=(Text(value='θ4', description='value'), IntSlider(value=14, description='sp', max=21, min…"
      ]
     },
     "metadata": {},
     "output_type": "display_data"
    },
    {
     "name": "stdout",
     "output_type": "stream",
     "text": [
      "\n"
     ]
    }
   ],
   "source": [
    "cool6 = cc.MxCcRhTzBl(parameters, inputs)\n",
    "Kw = 1e10\n",
    "cool6.actual[4] = Kw\n",
    "wd.interact(cool6.VAV_wd, value='θ4', sp=(14, 21), θo=(28, 36), φo=(0.4, 1),\n",
    "            θ5sp=(22, 26), φ5sp=(0.4, 0.8),\n",
    "            mi=(0.5, 3, 0.1), UA=(500, 800, 10), QsBL=(0, 60_000, 500), QlBL=(0, 20_000, 500))\n",
    "print()"
   ]
  },
  {
   "cell_type": "markdown",
   "metadata": {},
   "source": [
    "> Figure 16. Psychrometric diagram for a VAV system controlling the supply air temperature and the air temperature & humidity in the thermal zone modelled by the block diagram given in Figure 15. "
   ]
  },
  {
   "cell_type": "code",
   "execution_count": null,
   "metadata": {},
   "outputs": [],
   "source": []
  }
 ],
 "metadata": {
  "kernelspec": {
   "display_name": "Python 3",
   "language": "python",
   "name": "python3"
  },
  "language_info": {
   "codemirror_mode": {
    "name": "ipython",
    "version": 3
   },
   "file_extension": ".py",
   "mimetype": "text/x-python",
   "name": "python",
   "nbconvert_exporter": "python",
   "pygments_lexer": "ipython3",
   "version": "3.8.8"
  }
 },
 "nbformat": 4,
 "nbformat_minor": 4
}
