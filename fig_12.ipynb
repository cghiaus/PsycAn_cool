{
 "cells": [
  {
   "cell_type": "markdown",
   "id": "fb80259a-1bb9-401e-89f5-e78637ba51b7",
   "metadata": {},
   "source": [
    "Restart kernel and run all cells to visualize Figure 10."
   ]
  },
  {
   "cell_type": "code",
   "execution_count": 1,
   "id": "7fd1476c-c3db-42bd-a190-a4cca266c6bd",
   "metadata": {},
   "outputs": [
    {
     "data": {
      "application/vnd.jupyter.widget-view+json": {
       "model_id": "aaae63eb294d4ac6b148216088b2c2c1",
       "version_major": 2,
       "version_minor": 0
      },
      "text/plain": [
       "interactive(children=(Text(value='φ5', description='value'), FloatSlider(value=0.9, description='sp', max=0.9,…"
      ]
     },
     "metadata": {},
     "output_type": "display_data"
    },
    {
     "name": "stdout",
     "output_type": "stream",
     "text": [
      "Figure 12. Control of indoor air temperature & humidity (θ5, φ5)\n",
      "in VAV systems without reheating\n"
     ]
    }
   ],
   "source": [
    "import cool_fig\n",
    "cool_fig.no_12()"
   ]
  }
 ],
 "metadata": {
  "kernelspec": {
   "display_name": "Python 3",
   "language": "python",
   "name": "python3"
  },
  "language_info": {
   "codemirror_mode": {
    "name": "ipython",
    "version": 3
   },
   "file_extension": ".py",
   "mimetype": "text/x-python",
   "name": "python",
   "nbconvert_exporter": "python",
   "pygments_lexer": "ipython3",
   "version": "3.8.8"
  }
 },
 "nbformat": 4,
 "nbformat_minor": 5
}
