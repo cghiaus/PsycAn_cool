{
 "cells": [
  {
   "cell_type": "code",
   "execution_count": 3,
   "id": "551a1423-5916-4b91-8322-3da88bcdfe28",
   "metadata": {},
   "outputs": [
    {
     "data": {
      "application/vnd.jupyter.widget-view+json": {
       "model_id": "1d53e18b00b0482c9ec0cb416d426837",
       "version_major": 2,
       "version_minor": 0
      },
      "text/plain": [
       "interactive(children=(IntSlider(value=32, description='θo', max=34, min=26), FloatSlider(value=0.7, descriptio…"
      ]
     },
     "metadata": {},
     "output_type": "display_data"
    },
    {
     "name": "stdout",
     "output_type": "stream",
     "text": [
      "CAV systems with reheating\n",
      "Control of indoor air temperature & humidity (θ5, φ5)\n"
     ]
    }
   ],
   "source": [
    "import cool_fig\n",
    "cool_fig.no_6()"
   ]
  },
  {
   "cell_type": "code",
   "execution_count": null,
   "id": "5853640c-1b45-4386-b938-925c9870ddae",
   "metadata": {},
   "outputs": [],
   "source": []
  }
 ],
 "metadata": {
  "kernelspec": {
   "display_name": "Python 3",
   "language": "python",
   "name": "python3"
  },
  "language_info": {
   "codemirror_mode": {
    "name": "ipython",
    "version": 3
   },
   "file_extension": ".py",
   "mimetype": "text/x-python",
   "name": "python",
   "nbconvert_exporter": "python",
   "pygments_lexer": "ipython3",
   "version": "3.8.8"
  }
 },
 "nbformat": 4,
 "nbformat_minor": 5
}
